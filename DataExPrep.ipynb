{
 "metadata": {
  "name": "",
  "signature": "sha256:618ffe3aace5cc68567792a9076aaa631cf38466d08efc5a7d4036c7fbd1e1f2"
 },
 "nbformat": 3,
 "nbformat_minor": 0,
 "worksheets": [
  {
   "cells": [
    {
     "cell_type": "code",
     "collapsed": false,
     "input": [
      "import csv\n",
      "from igraph import *\n",
      "\n",
      "file = open(\"doi.citations_small.txt\", \"rb\")\n",
      "\n",
      "csv_read = csv.reader(file,dialect=csv.excel_tab) \n",
      "dois_list = []\n",
      "for row in csv_read:\n",
      "    for w in row:\n",
      "        dois_list.append(w.split())\n",
      "\n",
      "print dois_list\n",
      "\n",
      "#outfile = open(\"graph_sample.csv\", \"wb\")\n"
     ],
     "language": "python",
     "metadata": {},
     "outputs": [
      {
       "output_type": "stream",
       "stream": "stdout",
       "text": [
        "[['10.1.1.100.1022', '10.1.1.133.7112', '10.1.1.52.4809'], ['10.1.1.100.1037', '10.1.1.111.3104', '10.1.1.14.3331', '10.1.1.102.1525', '10.1.1.108.8376', '10.1.1.102.3750', '10.1.1.164.6517', '10.1.1.103.5318', '10.1.1.100.2602'], ['10.1.1.100.1045', '10.1.1.106.5713', '10.1.1.14.3960', '10.1.1.156.2724'], ['10.1.1.100.1057', '10.1.1.111.8464', '10.1.1.105.6486', '10.1.1.138.784', '10.1.1.121.2733'], ['10.1.1.100.1062', '10.1.1.13.9919', '10.1.1.12.787', '10.1.1.33.4425', '10.1.1.19.1677', '10.1.1.88.3931'], ['10.1.1.100.1098', '10.1.1.55.8054', '10.1.1.47.3891', '10.1.1.47.7464', '10.1.1.38.6745', '10.1.1.52.168', '10.1.1.41.1417'], ['10.1.1.100.1132', '10.1.1.116.4594', '10.1.1.128.174'], ['10.1.1.100.1153', '10.1.1.38.3827', '10.1.1.18.7575', '10.1.1.56.3738', '10.1.1.110.7560', '10.1.1.101.9958', '10.1.1.28.7411', '10.1.1.18.2975'], ['10.1.1.100.1164', '10.1.1.39.9796', '10.1.1.104.2119', '10.1.1.8.7906', '10.1.1.131.2434', '10.1.1.78.8998', '10.1.1.6.6222'], ['10.1.1.100.1196', '10.1.1.153.7628', '10.1.1.100.8001', '10.1.1.31.2802', '10.1.1.19.3462', '10.1.1.128.9154']]\n"
       ]
      }
     ],
     "prompt_number": 168
    },
    {
     "cell_type": "code",
     "collapsed": false,
     "input": [
      "graph_list = [] # create a list of tuples for the graph. This contains a pair of vertices that are directed to the 0th item\n",
      "for d in dois_list:\n",
      "    for i in range(len(d)-1):\n",
      "        graph_list.append((d[i+1], d[0]))\n",
      "\n",
      "#for x in graph_list:\n",
      "#    outfile.write(str(x))\n",
      "#    outfile.write(\"\\n\")\n",
      "#outfile.close()"
     ],
     "language": "python",
     "metadata": {},
     "outputs": [],
     "prompt_number": 169
    },
    {
     "cell_type": "code",
     "collapsed": false,
     "input": [
      "g = Graph.TupleList(directed=True, edges = graph_list)"
     ],
     "language": "python",
     "metadata": {},
     "outputs": [],
     "prompt_number": 170
    },
    {
     "cell_type": "code",
     "collapsed": false,
     "input": [
      "print g.vs.attributes()"
     ],
     "language": "python",
     "metadata": {},
     "outputs": [
      {
       "output_type": "stream",
       "stream": "stdout",
       "text": [
        "['name']\n"
       ]
      }
     ],
     "prompt_number": 172
    },
    {
     "cell_type": "code",
     "collapsed": false,
     "input": [
      "print g.vs[\"name\"]"
     ],
     "language": "python",
     "metadata": {},
     "outputs": [
      {
       "output_type": "stream",
       "stream": "stdout",
       "text": [
        "['10.1.1.133.7112', '10.1.1.100.1022', '10.1.1.52.4809', '10.1.1.111.3104', '10.1.1.100.1037', '10.1.1.14.3331', '10.1.1.102.1525', '10.1.1.108.8376', '10.1.1.102.3750', '10.1.1.164.6517', '10.1.1.103.5318', '10.1.1.100.2602', '10.1.1.106.5713', '10.1.1.100.1045', '10.1.1.14.3960', '10.1.1.156.2724', '10.1.1.111.8464', '10.1.1.100.1057', '10.1.1.105.6486', '10.1.1.138.784', '10.1.1.121.2733', '10.1.1.13.9919', '10.1.1.100.1062', '10.1.1.12.787', '10.1.1.33.4425', '10.1.1.19.1677', '10.1.1.88.3931', '10.1.1.55.8054', '10.1.1.100.1098', '10.1.1.47.3891', '10.1.1.47.7464', '10.1.1.38.6745', '10.1.1.52.168', '10.1.1.41.1417', '10.1.1.116.4594', '10.1.1.100.1132', '10.1.1.128.174', '10.1.1.38.3827', '10.1.1.100.1153', '10.1.1.18.7575', '10.1.1.56.3738', '10.1.1.110.7560', '10.1.1.101.9958', '10.1.1.28.7411', '10.1.1.18.2975', '10.1.1.39.9796', '10.1.1.100.1164', '10.1.1.104.2119', '10.1.1.8.7906', '10.1.1.131.2434', '10.1.1.78.8998', '10.1.1.6.6222', '10.1.1.153.7628', '10.1.1.100.1196', '10.1.1.100.8001', '10.1.1.31.2802', '10.1.1.19.3462', '10.1.1.128.9154']\n"
       ]
      }
     ],
     "prompt_number": 196
    },
    {
     "cell_type": "code",
     "collapsed": false,
     "input": [],
     "language": "python",
     "metadata": {},
     "outputs": [
      {
       "ename": "AttributeError",
       "evalue": "'Graph' object has no attribute 'size'",
       "output_type": "pyerr",
       "traceback": [
        "\u001b[0;31m---------------------------------------------------------------------------\u001b[0m\n\u001b[0;31mAttributeError\u001b[0m                            Traceback (most recent call last)",
        "\u001b[0;32m<ipython-input-204-cfbbfb649b77>\u001b[0m in \u001b[0;36m<module>\u001b[0;34m()\u001b[0m\n\u001b[0;32m----> 1\u001b[0;31m \u001b[0;32mprint\u001b[0m \u001b[0mg\u001b[0m\u001b[0;34m.\u001b[0m\u001b[0msize\u001b[0m\u001b[0;34m\u001b[0m\u001b[0m\n\u001b[0m",
        "\u001b[0;31mAttributeError\u001b[0m: 'Graph' object has no attribute 'size'"
       ]
      }
     ],
     "prompt_number": 204
    },
    {
     "cell_type": "code",
     "collapsed": false,
     "input": [],
     "language": "python",
     "metadata": {},
     "outputs": []
    }
   ],
   "metadata": {}
  }
 ]
}